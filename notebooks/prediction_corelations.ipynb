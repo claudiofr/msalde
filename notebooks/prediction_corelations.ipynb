{
 "cells": [
  {
   "cell_type": "code",
   "execution_count": null,
   "id": "5d570862",
   "metadata": {},
   "outputs": [],
   "source": [
    "import matplotlib.pyplot as plt\n",
    "\n",
    "def plot_results(axes, results_df, dataset, learner):\n",
    "    \n",
    "    axes.scatter(results_df[\"PREDICTION_SCORE\"],\n",
    "                 results_df[\"ASSAY_SCORE\"], color=np.random.rand(3,))\n",
    "    axes.set_title(f'{dataset}/{learner}')\n",
    "    axes.set_ylabel('Assay Value')\n",
    "    axes.set_xlabel('Prediction')\n"
   ]
  },
  {
   "cell_type": "code",
   "execution_count": null,
   "id": "e10e0aa6",
   "metadata": {},
   "outputs": [],
   "source": [
    "import context  # noqa: F401\n",
    "from msalde.container import ALDEContainer\n",
    "\n",
    "datasets = [\"cas12f\"]\n",
    "container = ALDEContainer()\n",
    "repo = container.query_repository\n",
    "\n",
    "num_rows = (len(datasets) * 3) // 3 + (len(datasets) % 3 > 0)\n",
    "fig, axes = plt.subplots(num_rows, 3, figsize=(15, 8))\n",
    "axes = axes.flatten()\n",
    "\n",
    "for i, dataset in enumerate(datasets):\n",
    "    rf_results = repo.get_top_variants_by_dataset_learner(\n",
    "        dataset_name=dataset, learner_name=\"RF_AL\")\n",
    "    ind = i * 3\n",
    "    plot_results(axes[ind], rf_results, dataset, \"RandomForest AL\")\n",
    "    rf_results = repo.get_top_variants_by_dataset_learner(\n",
    "        dataset_name=dataset, learner_name=\"RF_TRAINALL\")\n",
    "    ind += 1\n",
    "    plot_results(axes[ind], rf_results, dataset, \"RandomForest TrainAll\")\n",
    "    llr_results = repo.get_top_variants_by_dataset_learner(\n",
    "        dataset_name=dataset, learner_name=\"ESM2LogLikelihood\")\n",
    "    ind += 1\n",
    "    plot_results(axes[ind], rf_results, dataset, \"LogLikelihood\")\n",
    "\n",
    "plt.tight_layout(rect=[0, 0, 1, 0.95])\n",
    "plt.show()\n"
   ]
  }
 ],
 "metadata": {
  "language_info": {
   "name": "python"
  }
 },
 "nbformat": 4,
 "nbformat_minor": 5
}
